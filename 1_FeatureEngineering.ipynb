{
  "nbformat": 4,
  "nbformat_minor": 0,
  "metadata": {
    "colab": {
      "provenance": [],
      "authorship_tag": "ABX9TyN39uaNkLZlHsaNmq42ObXY"
    },
    "kernelspec": {
      "name": "python3",
      "display_name": "Python 3"
    },
    "language_info": {
      "name": "python"
    }
  },
  "cells": [
    {
      "cell_type": "markdown",
      "source": [
        "# Feature Engineering\n",
        "\n",
        "\n",
        "\n",
        "**df1 (customer_transaction_details):**\n",
        "\n",
        "\n",
        "1.   Drop the three Id columns\n",
        "2.   Drop the outlier row 189 (transactionAmount = 353)\n",
        "3. Keep paymentMethodRegistrationFailure, paymentMethodType, paymentMethodProvider, transactionFailed, orderState, transactionAmount\n",
        "\n",
        "\n",
        "**df2 (customers_df):**\n",
        "\n",
        "\n",
        "1.   Incorporate valid email address column\n",
        "2.   Incorpoate a column flagging customer with duplication of email address\n",
        "3.   Incorporate edomain, consolidating all domain names with frequency below 4 as \"Other\"\n",
        "4. Incorporate country field from IPAddress. Consolidate countries with frequency less than 7 as \"Other\"\n",
        "5. Keep the three numeric columns\n",
        "6. Drop Billing, customer phone, device, IPAddress\n",
        "7. Eliminate rows with duplicate emails from cust. Modelling will be performed on transaction rows, not customer rows.\n",
        "\n",
        "\n",
        "Join the dataframes on emailaddress and then drop emailaddress. Convert categorical variables to one-hot encoding\n",
        "\n",
        "\n",
        "This will leave 13 variables, which expands to 36 with one-hot encoding.\n",
        "\n",
        "\n",
        "\n",
        "\n",
        "\n",
        "\n",
        "\n",
        "\n",
        "\n",
        "\n"
      ],
      "metadata": {
        "id": "hlnHQgERiPUh"
      }
    },
    {
      "cell_type": "code",
      "source": [
        "import pandas as pd\n",
        "import numpy as np\n",
        "import re"
      ],
      "metadata": {
        "id": "Zw3NAzGbnQAr"
      },
      "execution_count": 2,
      "outputs": []
    },
    {
      "cell_type": "markdown",
      "source": [
        "# df1 (customer_transaction_details)"
      ],
      "metadata": {
        "id": "GPeTnBewmCvQ"
      }
    },
    {
      "cell_type": "code",
      "source": [
        "df1 = pd.read_csv(\"customer_transaction_details (1).csv\",index_col=0)\n",
        "df1 = df1.drop(['transactionId','orderId','paymentMethodId'], axis=1)\n",
        "df1 = df1.drop(189,axis=0)"
      ],
      "metadata": {
        "id": "A01ChxOgmB20"
      },
      "execution_count": 3,
      "outputs": []
    },
    {
      "cell_type": "markdown",
      "source": [
        "# df2 (customers_df)"
      ],
      "metadata": {
        "id": "jd6RgNBCmwUu"
      }
    },
    {
      "cell_type": "code",
      "execution_count": 5,
      "metadata": {
        "id": "6qc5gvu-gc5q"
      },
      "outputs": [],
      "source": [
        "df2 = pd.read_csv(\"customers_df (1).csv\",index_col=0)\n",
        "regex = '''(?:[a-z0-9!#$%&'*+/=?^_`{|}~-]+(?:\\.[a-z0-9!#$%&'*+/=?^_`{|}~-]+)*|\"(?:[\\x01-\\x08\\x0b\\x0c\\x0e-\\x1f\\x21\\x23-\\x5b\\x5d-\\x7f]|\\\\[\\x01-\\x09\\x0b\\x0c\\x0e-\\x7f])*\")@(?:(?:[a-z0-9](?:[a-z0-9-]*[a-z0-9])?\\.)+[a-z0-9](?:[a-z0-9-]*[a-z0-9])?|\\[(?:(?:(2(5[0-5]|[0-4][0-9])|1[0-9][0-9]|[1-9]?[0-9]))\\.){3}(?:(2(5[0-5]|[0-4][0-9])|1[0-9][0-9]|[1-9]?[0-9])|[a-z0-9-]*[a-z0-9]:(?:[\\x01-\\x08\\x0b\\x0c\\x0e-\\x1f\\x21-\\x5a\\x53-\\x7f]|\\\\[\\x01-\\x09\\x0b\\x0c\\x0e-\\x7f])+)\\])'''\n",
        "df2['valid_email'] = df2['customerEmail'].apply(lambda x: int(bool(re.fullmatch(regex,x))))\n",
        "df2['dup_email'] = df2.duplicated(subset=['customerEmail'],keep=False)\n",
        "df2['edomain'] = df2['customerEmail'].apply(lambda x: x.split(\"@\")[1])\n",
        "edomainCounts = df2['edomain'].value_counts().head(3).index\n",
        "df2['edomain'] = df2['edomain'].apply(lambda x: x if x in edomainCounts else \"Other\")\n",
        "ipcountry= pd.read_csv(\"ipcountry.csv\")\n",
        "df2['country'] = ipcountry['Country']\n",
        "countryCounts = df2['country'].value_counts().head(6).index\n",
        "df2['country'] = df2['country'].apply(lambda x: x if x in countryCounts else \"Other\")\n",
        "df2 = df2.drop(['customerPhone','customerDevice', 'customerBillingAddress', 'customerIPAddress'], axis = 1)\n",
        "df2 = df2.drop_duplicates(subset='customerEmail', keep='first', inplace=False)"
      ]
    },
    {
      "cell_type": "markdown",
      "source": [
        "# Concatenate"
      ],
      "metadata": {
        "id": "O_nE8bgfm8I-"
      }
    },
    {
      "cell_type": "code",
      "source": [
        "fraudData = df1.merge(df2, how='left', on='customerEmail')\n",
        "y = fraudData['Fraud']\n",
        "X = fraudData.drop(['customerEmail', 'Fraud'], axis = 1)\n",
        "payment = pd.get_dummies(X['paymentMethodType'],drop_first=True)\n",
        "provider = pd.get_dummies(X['paymentMethodProvider'],drop_first=True)\n",
        "state = pd.get_dummies(X['orderState'],drop_first=True)\n",
        "domain = pd.get_dummies(X['edomain'],drop_first=True)\n",
        "country = pd.get_dummies(X['country'],drop_first=True)\n",
        "X = X.drop(['paymentMethodType','paymentMethodProvider','orderState','edomain','country'],axis=1)\n",
        "X = pd.concat([X,payment,provider,state,domain,country],axis=1)"
      ],
      "metadata": {
        "id": "v4tRq1Tvm-8k"
      },
      "execution_count": 6,
      "outputs": []
    },
    {
      "cell_type": "markdown",
      "source": [
        "# Final balance of data: 41% fraud"
      ],
      "metadata": {
        "id": "JX4G5tvunExs"
      }
    },
    {
      "cell_type": "code",
      "source": [
        "np.mean(y)"
      ],
      "metadata": {
        "colab": {
          "base_uri": "https://localhost:8080/"
        },
        "id": "7HA-3byWnI5F",
        "outputId": "6c4556f4-6d34-470b-ca2e-19c7bbd030f3"
      },
      "execution_count": 7,
      "outputs": [
        {
          "output_type": "execute_result",
          "data": {
            "text/plain": [
              "0.4115755627009646"
            ]
          },
          "metadata": {},
          "execution_count": 7
        }
      ]
    }
  ]
}